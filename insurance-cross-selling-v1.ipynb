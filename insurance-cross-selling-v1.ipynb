{
 "cells": [
  {
   "cell_type": "markdown",
   "id": "2c0b2f34",
   "metadata": {
    "papermill": {
     "duration": 0.009867,
     "end_time": "2024-07-13T01:33:39.380909",
     "exception": false,
     "start_time": "2024-07-13T01:33:39.371042",
     "status": "completed"
    },
    "tags": []
   },
   "source": [
    "# Importing and Cleaning"
   ]
  },
  {
   "cell_type": "code",
   "execution_count": 1,
   "id": "dd4786c9",
   "metadata": {
    "_cell_guid": "b1076dfc-b9ad-4769-8c92-a6c4dae69d19",
    "_uuid": "8f2839f25d086af736a60e9eeb907d3b93b6e0e5",
    "execution": {
     "iopub.execute_input": "2024-07-13T01:33:39.398856Z",
     "iopub.status.busy": "2024-07-13T01:33:39.398452Z",
     "iopub.status.idle": "2024-07-13T01:33:41.345323Z",
     "shell.execute_reply": "2024-07-13T01:33:41.344578Z"
    },
    "papermill": {
     "duration": 1.958482,
     "end_time": "2024-07-13T01:33:41.347706",
     "exception": false,
     "start_time": "2024-07-13T01:33:39.389224",
     "status": "completed"
    },
    "tags": []
   },
   "outputs": [],
   "source": [
    "import pandas as pd\n",
    "import numpy as np\n",
    "from matplotlib import pyplot as plt\n",
    "import seaborn as sns\n",
    "import warnings\n",
    "warnings.filterwarnings('ignore')"
   ]
  },
  {
   "cell_type": "code",
   "execution_count": 2,
   "id": "e7a7074d",
   "metadata": {
    "execution": {
     "iopub.execute_input": "2024-07-13T01:33:41.365710Z",
     "iopub.status.busy": "2024-07-13T01:33:41.365277Z",
     "iopub.status.idle": "2024-07-13T01:34:17.830514Z",
     "shell.execute_reply": "2024-07-13T01:34:17.829745Z"
    },
    "papermill": {
     "duration": 36.476845,
     "end_time": "2024-07-13T01:34:17.832884",
     "exception": false,
     "start_time": "2024-07-13T01:33:41.356039",
     "status": "completed"
    },
    "tags": []
   },
   "outputs": [],
   "source": [
    "test_df = pd.read_csv(\"/kaggle/input/playground-series-s4e7/test.csv\")\n",
    "train_df = pd.read_csv(\"/kaggle/input/playground-series-s4e7/train.csv\")\n",
    "sample_df = pd.read_csv(\"/kaggle/input/playground-series-s4e7/sample_submission.csv\")"
   ]
  },
  {
   "cell_type": "code",
   "execution_count": 3,
   "id": "e43fe403",
   "metadata": {
    "execution": {
     "iopub.execute_input": "2024-07-13T01:34:17.851159Z",
     "iopub.status.busy": "2024-07-13T01:34:17.850845Z",
     "iopub.status.idle": "2024-07-13T01:34:17.875435Z",
     "shell.execute_reply": "2024-07-13T01:34:17.874594Z"
    },
    "papermill": {
     "duration": 0.036139,
     "end_time": "2024-07-13T01:34:17.877582",
     "exception": false,
     "start_time": "2024-07-13T01:34:17.841443",
     "status": "completed"
    },
    "tags": []
   },
   "outputs": [
    {
     "data": {
      "text/html": [
       "<div>\n",
       "<style scoped>\n",
       "    .dataframe tbody tr th:only-of-type {\n",
       "        vertical-align: middle;\n",
       "    }\n",
       "\n",
       "    .dataframe tbody tr th {\n",
       "        vertical-align: top;\n",
       "    }\n",
       "\n",
       "    .dataframe thead th {\n",
       "        text-align: right;\n",
       "    }\n",
       "</style>\n",
       "<table border=\"1\" class=\"dataframe\">\n",
       "  <thead>\n",
       "    <tr style=\"text-align: right;\">\n",
       "      <th></th>\n",
       "      <th>id</th>\n",
       "      <th>Gender</th>\n",
       "      <th>Age</th>\n",
       "      <th>Driving_License</th>\n",
       "      <th>Region_Code</th>\n",
       "      <th>Previously_Insured</th>\n",
       "      <th>Vehicle_Age</th>\n",
       "      <th>Vehicle_Damage</th>\n",
       "      <th>Annual_Premium</th>\n",
       "      <th>Policy_Sales_Channel</th>\n",
       "      <th>Vintage</th>\n",
       "    </tr>\n",
       "  </thead>\n",
       "  <tbody>\n",
       "    <tr>\n",
       "      <th>0</th>\n",
       "      <td>11504798</td>\n",
       "      <td>Female</td>\n",
       "      <td>20</td>\n",
       "      <td>1</td>\n",
       "      <td>47.0</td>\n",
       "      <td>0</td>\n",
       "      <td>&lt; 1 Year</td>\n",
       "      <td>No</td>\n",
       "      <td>2630.0</td>\n",
       "      <td>160.0</td>\n",
       "      <td>228</td>\n",
       "    </tr>\n",
       "    <tr>\n",
       "      <th>1</th>\n",
       "      <td>11504799</td>\n",
       "      <td>Male</td>\n",
       "      <td>47</td>\n",
       "      <td>1</td>\n",
       "      <td>28.0</td>\n",
       "      <td>0</td>\n",
       "      <td>1-2 Year</td>\n",
       "      <td>Yes</td>\n",
       "      <td>37483.0</td>\n",
       "      <td>124.0</td>\n",
       "      <td>123</td>\n",
       "    </tr>\n",
       "    <tr>\n",
       "      <th>2</th>\n",
       "      <td>11504800</td>\n",
       "      <td>Male</td>\n",
       "      <td>47</td>\n",
       "      <td>1</td>\n",
       "      <td>43.0</td>\n",
       "      <td>0</td>\n",
       "      <td>1-2 Year</td>\n",
       "      <td>Yes</td>\n",
       "      <td>2630.0</td>\n",
       "      <td>26.0</td>\n",
       "      <td>271</td>\n",
       "    </tr>\n",
       "    <tr>\n",
       "      <th>3</th>\n",
       "      <td>11504801</td>\n",
       "      <td>Female</td>\n",
       "      <td>22</td>\n",
       "      <td>1</td>\n",
       "      <td>47.0</td>\n",
       "      <td>1</td>\n",
       "      <td>&lt; 1 Year</td>\n",
       "      <td>No</td>\n",
       "      <td>24502.0</td>\n",
       "      <td>152.0</td>\n",
       "      <td>115</td>\n",
       "    </tr>\n",
       "    <tr>\n",
       "      <th>4</th>\n",
       "      <td>11504802</td>\n",
       "      <td>Male</td>\n",
       "      <td>51</td>\n",
       "      <td>1</td>\n",
       "      <td>19.0</td>\n",
       "      <td>0</td>\n",
       "      <td>1-2 Year</td>\n",
       "      <td>No</td>\n",
       "      <td>34115.0</td>\n",
       "      <td>124.0</td>\n",
       "      <td>148</td>\n",
       "    </tr>\n",
       "  </tbody>\n",
       "</table>\n",
       "</div>"
      ],
      "text/plain": [
       "         id  Gender  Age  Driving_License  Region_Code  Previously_Insured  \\\n",
       "0  11504798  Female   20                1         47.0                   0   \n",
       "1  11504799    Male   47                1         28.0                   0   \n",
       "2  11504800    Male   47                1         43.0                   0   \n",
       "3  11504801  Female   22                1         47.0                   1   \n",
       "4  11504802    Male   51                1         19.0                   0   \n",
       "\n",
       "  Vehicle_Age Vehicle_Damage  Annual_Premium  Policy_Sales_Channel  Vintage  \n",
       "0    < 1 Year             No          2630.0                 160.0      228  \n",
       "1    1-2 Year            Yes         37483.0                 124.0      123  \n",
       "2    1-2 Year            Yes          2630.0                  26.0      271  \n",
       "3    < 1 Year             No         24502.0                 152.0      115  \n",
       "4    1-2 Year             No         34115.0                 124.0      148  "
      ]
     },
     "execution_count": 3,
     "metadata": {},
     "output_type": "execute_result"
    }
   ],
   "source": [
    "test_df.head(5)"
   ]
  },
  {
   "cell_type": "code",
   "execution_count": 4,
   "id": "f83d33c1",
   "metadata": {
    "execution": {
     "iopub.execute_input": "2024-07-13T01:34:17.895568Z",
     "iopub.status.busy": "2024-07-13T01:34:17.895256Z",
     "iopub.status.idle": "2024-07-13T01:34:17.909657Z",
     "shell.execute_reply": "2024-07-13T01:34:17.908833Z"
    },
    "papermill": {
     "duration": 0.025589,
     "end_time": "2024-07-13T01:34:17.911606",
     "exception": false,
     "start_time": "2024-07-13T01:34:17.886017",
     "status": "completed"
    },
    "tags": []
   },
   "outputs": [
    {
     "data": {
      "text/html": [
       "<div>\n",
       "<style scoped>\n",
       "    .dataframe tbody tr th:only-of-type {\n",
       "        vertical-align: middle;\n",
       "    }\n",
       "\n",
       "    .dataframe tbody tr th {\n",
       "        vertical-align: top;\n",
       "    }\n",
       "\n",
       "    .dataframe thead th {\n",
       "        text-align: right;\n",
       "    }\n",
       "</style>\n",
       "<table border=\"1\" class=\"dataframe\">\n",
       "  <thead>\n",
       "    <tr style=\"text-align: right;\">\n",
       "      <th></th>\n",
       "      <th>id</th>\n",
       "      <th>Gender</th>\n",
       "      <th>Age</th>\n",
       "      <th>Driving_License</th>\n",
       "      <th>Region_Code</th>\n",
       "      <th>Previously_Insured</th>\n",
       "      <th>Vehicle_Age</th>\n",
       "      <th>Vehicle_Damage</th>\n",
       "      <th>Annual_Premium</th>\n",
       "      <th>Policy_Sales_Channel</th>\n",
       "      <th>Vintage</th>\n",
       "      <th>Response</th>\n",
       "    </tr>\n",
       "  </thead>\n",
       "  <tbody>\n",
       "    <tr>\n",
       "      <th>0</th>\n",
       "      <td>0</td>\n",
       "      <td>Male</td>\n",
       "      <td>21</td>\n",
       "      <td>1</td>\n",
       "      <td>35.0</td>\n",
       "      <td>0</td>\n",
       "      <td>1-2 Year</td>\n",
       "      <td>Yes</td>\n",
       "      <td>65101.0</td>\n",
       "      <td>124.0</td>\n",
       "      <td>187</td>\n",
       "      <td>0</td>\n",
       "    </tr>\n",
       "    <tr>\n",
       "      <th>1</th>\n",
       "      <td>1</td>\n",
       "      <td>Male</td>\n",
       "      <td>43</td>\n",
       "      <td>1</td>\n",
       "      <td>28.0</td>\n",
       "      <td>0</td>\n",
       "      <td>&gt; 2 Years</td>\n",
       "      <td>Yes</td>\n",
       "      <td>58911.0</td>\n",
       "      <td>26.0</td>\n",
       "      <td>288</td>\n",
       "      <td>1</td>\n",
       "    </tr>\n",
       "    <tr>\n",
       "      <th>2</th>\n",
       "      <td>2</td>\n",
       "      <td>Female</td>\n",
       "      <td>25</td>\n",
       "      <td>1</td>\n",
       "      <td>14.0</td>\n",
       "      <td>1</td>\n",
       "      <td>&lt; 1 Year</td>\n",
       "      <td>No</td>\n",
       "      <td>38043.0</td>\n",
       "      <td>152.0</td>\n",
       "      <td>254</td>\n",
       "      <td>0</td>\n",
       "    </tr>\n",
       "    <tr>\n",
       "      <th>3</th>\n",
       "      <td>3</td>\n",
       "      <td>Female</td>\n",
       "      <td>35</td>\n",
       "      <td>1</td>\n",
       "      <td>1.0</td>\n",
       "      <td>0</td>\n",
       "      <td>1-2 Year</td>\n",
       "      <td>Yes</td>\n",
       "      <td>2630.0</td>\n",
       "      <td>156.0</td>\n",
       "      <td>76</td>\n",
       "      <td>0</td>\n",
       "    </tr>\n",
       "    <tr>\n",
       "      <th>4</th>\n",
       "      <td>4</td>\n",
       "      <td>Female</td>\n",
       "      <td>36</td>\n",
       "      <td>1</td>\n",
       "      <td>15.0</td>\n",
       "      <td>1</td>\n",
       "      <td>1-2 Year</td>\n",
       "      <td>No</td>\n",
       "      <td>31951.0</td>\n",
       "      <td>152.0</td>\n",
       "      <td>294</td>\n",
       "      <td>0</td>\n",
       "    </tr>\n",
       "  </tbody>\n",
       "</table>\n",
       "</div>"
      ],
      "text/plain": [
       "   id  Gender  Age  Driving_License  Region_Code  Previously_Insured  \\\n",
       "0   0    Male   21                1         35.0                   0   \n",
       "1   1    Male   43                1         28.0                   0   \n",
       "2   2  Female   25                1         14.0                   1   \n",
       "3   3  Female   35                1          1.0                   0   \n",
       "4   4  Female   36                1         15.0                   1   \n",
       "\n",
       "  Vehicle_Age Vehicle_Damage  Annual_Premium  Policy_Sales_Channel  Vintage  \\\n",
       "0    1-2 Year            Yes         65101.0                 124.0      187   \n",
       "1   > 2 Years            Yes         58911.0                  26.0      288   \n",
       "2    < 1 Year             No         38043.0                 152.0      254   \n",
       "3    1-2 Year            Yes          2630.0                 156.0       76   \n",
       "4    1-2 Year             No         31951.0                 152.0      294   \n",
       "\n",
       "   Response  \n",
       "0         0  \n",
       "1         1  \n",
       "2         0  \n",
       "3         0  \n",
       "4         0  "
      ]
     },
     "execution_count": 4,
     "metadata": {},
     "output_type": "execute_result"
    }
   ],
   "source": [
    "train_df.head(5)"
   ]
  },
  {
   "cell_type": "code",
   "execution_count": 5,
   "id": "f321ae52",
   "metadata": {
    "execution": {
     "iopub.execute_input": "2024-07-13T01:34:17.930466Z",
     "iopub.status.busy": "2024-07-13T01:34:17.929828Z",
     "iopub.status.idle": "2024-07-13T01:34:17.938321Z",
     "shell.execute_reply": "2024-07-13T01:34:17.937475Z"
    },
    "papermill": {
     "duration": 0.020233,
     "end_time": "2024-07-13T01:34:17.940451",
     "exception": false,
     "start_time": "2024-07-13T01:34:17.920218",
     "status": "completed"
    },
    "tags": []
   },
   "outputs": [
    {
     "data": {
      "text/html": [
       "<div>\n",
       "<style scoped>\n",
       "    .dataframe tbody tr th:only-of-type {\n",
       "        vertical-align: middle;\n",
       "    }\n",
       "\n",
       "    .dataframe tbody tr th {\n",
       "        vertical-align: top;\n",
       "    }\n",
       "\n",
       "    .dataframe thead th {\n",
       "        text-align: right;\n",
       "    }\n",
       "</style>\n",
       "<table border=\"1\" class=\"dataframe\">\n",
       "  <thead>\n",
       "    <tr style=\"text-align: right;\">\n",
       "      <th></th>\n",
       "      <th>id</th>\n",
       "      <th>Response</th>\n",
       "    </tr>\n",
       "  </thead>\n",
       "  <tbody>\n",
       "    <tr>\n",
       "      <th>0</th>\n",
       "      <td>11504798</td>\n",
       "      <td>0.5</td>\n",
       "    </tr>\n",
       "    <tr>\n",
       "      <th>1</th>\n",
       "      <td>11504799</td>\n",
       "      <td>0.5</td>\n",
       "    </tr>\n",
       "    <tr>\n",
       "      <th>2</th>\n",
       "      <td>11504800</td>\n",
       "      <td>0.5</td>\n",
       "    </tr>\n",
       "    <tr>\n",
       "      <th>3</th>\n",
       "      <td>11504801</td>\n",
       "      <td>0.5</td>\n",
       "    </tr>\n",
       "    <tr>\n",
       "      <th>4</th>\n",
       "      <td>11504802</td>\n",
       "      <td>0.5</td>\n",
       "    </tr>\n",
       "  </tbody>\n",
       "</table>\n",
       "</div>"
      ],
      "text/plain": [
       "         id  Response\n",
       "0  11504798       0.5\n",
       "1  11504799       0.5\n",
       "2  11504800       0.5\n",
       "3  11504801       0.5\n",
       "4  11504802       0.5"
      ]
     },
     "execution_count": 5,
     "metadata": {},
     "output_type": "execute_result"
    }
   ],
   "source": [
    "sample_df.head(5)"
   ]
  },
  {
   "cell_type": "code",
   "execution_count": 6,
   "id": "aa6e984b",
   "metadata": {
    "execution": {
     "iopub.execute_input": "2024-07-13T01:34:17.960389Z",
     "iopub.status.busy": "2024-07-13T01:34:17.960116Z",
     "iopub.status.idle": "2024-07-13T01:34:17.964554Z",
     "shell.execute_reply": "2024-07-13T01:34:17.963743Z"
    },
    "papermill": {
     "duration": 0.016211,
     "end_time": "2024-07-13T01:34:17.966619",
     "exception": false,
     "start_time": "2024-07-13T01:34:17.950408",
     "status": "completed"
    },
    "tags": []
   },
   "outputs": [
    {
     "name": "stdout",
     "output_type": "stream",
     "text": [
      "(11504798, 12)\n",
      "(7669866, 11)\n"
     ]
    }
   ],
   "source": [
    "print(train_df.shape)\n",
    "print(test_df.shape)"
   ]
  },
  {
   "cell_type": "code",
   "execution_count": 7,
   "id": "6e60c9ad",
   "metadata": {
    "execution": {
     "iopub.execute_input": "2024-07-13T01:34:17.985505Z",
     "iopub.status.busy": "2024-07-13T01:34:17.985244Z",
     "iopub.status.idle": "2024-07-13T01:34:21.172058Z",
     "shell.execute_reply": "2024-07-13T01:34:21.171039Z"
    },
    "papermill": {
     "duration": 3.1987,
     "end_time": "2024-07-13T01:34:21.174155",
     "exception": false,
     "start_time": "2024-07-13T01:34:17.975455",
     "status": "completed"
    },
    "tags": []
   },
   "outputs": [
    {
     "data": {
      "text/plain": [
       "id                      0\n",
       "Gender                  0\n",
       "Age                     0\n",
       "Driving_License         0\n",
       "Region_Code             0\n",
       "Previously_Insured      0\n",
       "Vehicle_Age             0\n",
       "Vehicle_Damage          0\n",
       "Annual_Premium          0\n",
       "Policy_Sales_Channel    0\n",
       "Vintage                 0\n",
       "Response                0\n",
       "dtype: int64"
      ]
     },
     "execution_count": 7,
     "metadata": {},
     "output_type": "execute_result"
    }
   ],
   "source": [
    "train_df.isnull().sum()"
   ]
  },
  {
   "cell_type": "code",
   "execution_count": 8,
   "id": "a079a63b",
   "metadata": {
    "execution": {
     "iopub.execute_input": "2024-07-13T01:34:21.193655Z",
     "iopub.status.busy": "2024-07-13T01:34:21.193346Z",
     "iopub.status.idle": "2024-07-13T01:34:28.650921Z",
     "shell.execute_reply": "2024-07-13T01:34:28.650039Z"
    },
    "papermill": {
     "duration": 7.469766,
     "end_time": "2024-07-13T01:34:28.653175",
     "exception": false,
     "start_time": "2024-07-13T01:34:21.183409",
     "status": "completed"
    },
    "tags": []
   },
   "outputs": [
    {
     "data": {
      "text/plain": [
       "0"
      ]
     },
     "execution_count": 8,
     "metadata": {},
     "output_type": "execute_result"
    }
   ],
   "source": [
    "train_df.duplicated().sum()"
   ]
  },
  {
   "cell_type": "code",
   "execution_count": 9,
   "id": "74604ded",
   "metadata": {
    "execution": {
     "iopub.execute_input": "2024-07-13T01:34:28.673620Z",
     "iopub.status.busy": "2024-07-13T01:34:28.673269Z",
     "iopub.status.idle": "2024-07-13T01:34:28.680662Z",
     "shell.execute_reply": "2024-07-13T01:34:28.679776Z"
    },
    "papermill": {
     "duration": 0.020233,
     "end_time": "2024-07-13T01:34:28.682817",
     "exception": false,
     "start_time": "2024-07-13T01:34:28.662584",
     "status": "completed"
    },
    "tags": []
   },
   "outputs": [
    {
     "data": {
      "text/plain": [
       "id                        int64\n",
       "Gender                   object\n",
       "Age                       int64\n",
       "Driving_License           int64\n",
       "Region_Code             float64\n",
       "Previously_Insured        int64\n",
       "Vehicle_Age              object\n",
       "Vehicle_Damage           object\n",
       "Annual_Premium          float64\n",
       "Policy_Sales_Channel    float64\n",
       "Vintage                   int64\n",
       "Response                  int64\n",
       "dtype: object"
      ]
     },
     "execution_count": 9,
     "metadata": {},
     "output_type": "execute_result"
    }
   ],
   "source": [
    "train_df.dtypes"
   ]
  },
  {
   "cell_type": "code",
   "execution_count": 10,
   "id": "94c5e9f6",
   "metadata": {
    "execution": {
     "iopub.execute_input": "2024-07-13T01:34:28.703083Z",
     "iopub.status.busy": "2024-07-13T01:34:28.702809Z",
     "iopub.status.idle": "2024-07-13T01:34:32.039722Z",
     "shell.execute_reply": "2024-07-13T01:34:32.038833Z"
    },
    "papermill": {
     "duration": 3.349415,
     "end_time": "2024-07-13T01:34:32.041709",
     "exception": false,
     "start_time": "2024-07-13T01:34:28.692294",
     "status": "completed"
    },
    "tags": []
   },
   "outputs": [
    {
     "data": {
      "text/html": [
       "<div>\n",
       "<style scoped>\n",
       "    .dataframe tbody tr th:only-of-type {\n",
       "        vertical-align: middle;\n",
       "    }\n",
       "\n",
       "    .dataframe tbody tr th {\n",
       "        vertical-align: top;\n",
       "    }\n",
       "\n",
       "    .dataframe thead th {\n",
       "        text-align: right;\n",
       "    }\n",
       "</style>\n",
       "<table border=\"1\" class=\"dataframe\">\n",
       "  <thead>\n",
       "    <tr style=\"text-align: right;\">\n",
       "      <th></th>\n",
       "      <th>count</th>\n",
       "      <th>mean</th>\n",
       "      <th>std</th>\n",
       "      <th>min</th>\n",
       "      <th>25%</th>\n",
       "      <th>50%</th>\n",
       "      <th>75%</th>\n",
       "      <th>max</th>\n",
       "    </tr>\n",
       "  </thead>\n",
       "  <tbody>\n",
       "    <tr>\n",
       "      <th>id</th>\n",
       "      <td>11504798.0</td>\n",
       "      <td>5.752398e+06</td>\n",
       "      <td>3.321149e+06</td>\n",
       "      <td>0.0</td>\n",
       "      <td>2876199.25</td>\n",
       "      <td>5752398.5</td>\n",
       "      <td>8628597.75</td>\n",
       "      <td>11504797.0</td>\n",
       "    </tr>\n",
       "    <tr>\n",
       "      <th>Age</th>\n",
       "      <td>11504798.0</td>\n",
       "      <td>3.838356e+01</td>\n",
       "      <td>1.499346e+01</td>\n",
       "      <td>20.0</td>\n",
       "      <td>24.00</td>\n",
       "      <td>36.0</td>\n",
       "      <td>49.00</td>\n",
       "      <td>85.0</td>\n",
       "    </tr>\n",
       "    <tr>\n",
       "      <th>Driving_License</th>\n",
       "      <td>11504798.0</td>\n",
       "      <td>9.980220e-01</td>\n",
       "      <td>4.443120e-02</td>\n",
       "      <td>0.0</td>\n",
       "      <td>1.00</td>\n",
       "      <td>1.0</td>\n",
       "      <td>1.00</td>\n",
       "      <td>1.0</td>\n",
       "    </tr>\n",
       "    <tr>\n",
       "      <th>Region_Code</th>\n",
       "      <td>11504798.0</td>\n",
       "      <td>2.641869e+01</td>\n",
       "      <td>1.299159e+01</td>\n",
       "      <td>0.0</td>\n",
       "      <td>15.00</td>\n",
       "      <td>28.0</td>\n",
       "      <td>35.00</td>\n",
       "      <td>52.0</td>\n",
       "    </tr>\n",
       "    <tr>\n",
       "      <th>Previously_Insured</th>\n",
       "      <td>11504798.0</td>\n",
       "      <td>4.629966e-01</td>\n",
       "      <td>4.986289e-01</td>\n",
       "      <td>0.0</td>\n",
       "      <td>0.00</td>\n",
       "      <td>0.0</td>\n",
       "      <td>1.00</td>\n",
       "      <td>1.0</td>\n",
       "    </tr>\n",
       "    <tr>\n",
       "      <th>Annual_Premium</th>\n",
       "      <td>11504798.0</td>\n",
       "      <td>3.046137e+04</td>\n",
       "      <td>1.645475e+04</td>\n",
       "      <td>2630.0</td>\n",
       "      <td>25277.00</td>\n",
       "      <td>31824.0</td>\n",
       "      <td>39451.00</td>\n",
       "      <td>540165.0</td>\n",
       "    </tr>\n",
       "    <tr>\n",
       "      <th>Policy_Sales_Channel</th>\n",
       "      <td>11504798.0</td>\n",
       "      <td>1.124254e+02</td>\n",
       "      <td>5.403571e+01</td>\n",
       "      <td>1.0</td>\n",
       "      <td>29.00</td>\n",
       "      <td>151.0</td>\n",
       "      <td>152.00</td>\n",
       "      <td>163.0</td>\n",
       "    </tr>\n",
       "    <tr>\n",
       "      <th>Vintage</th>\n",
       "      <td>11504798.0</td>\n",
       "      <td>1.638977e+02</td>\n",
       "      <td>7.997953e+01</td>\n",
       "      <td>10.0</td>\n",
       "      <td>99.00</td>\n",
       "      <td>166.0</td>\n",
       "      <td>232.00</td>\n",
       "      <td>299.0</td>\n",
       "    </tr>\n",
       "    <tr>\n",
       "      <th>Response</th>\n",
       "      <td>11504798.0</td>\n",
       "      <td>1.229973e-01</td>\n",
       "      <td>3.284341e-01</td>\n",
       "      <td>0.0</td>\n",
       "      <td>0.00</td>\n",
       "      <td>0.0</td>\n",
       "      <td>0.00</td>\n",
       "      <td>1.0</td>\n",
       "    </tr>\n",
       "  </tbody>\n",
       "</table>\n",
       "</div>"
      ],
      "text/plain": [
       "                           count          mean           std     min  \\\n",
       "id                    11504798.0  5.752398e+06  3.321149e+06     0.0   \n",
       "Age                   11504798.0  3.838356e+01  1.499346e+01    20.0   \n",
       "Driving_License       11504798.0  9.980220e-01  4.443120e-02     0.0   \n",
       "Region_Code           11504798.0  2.641869e+01  1.299159e+01     0.0   \n",
       "Previously_Insured    11504798.0  4.629966e-01  4.986289e-01     0.0   \n",
       "Annual_Premium        11504798.0  3.046137e+04  1.645475e+04  2630.0   \n",
       "Policy_Sales_Channel  11504798.0  1.124254e+02  5.403571e+01     1.0   \n",
       "Vintage               11504798.0  1.638977e+02  7.997953e+01    10.0   \n",
       "Response              11504798.0  1.229973e-01  3.284341e-01     0.0   \n",
       "\n",
       "                             25%        50%         75%         max  \n",
       "id                    2876199.25  5752398.5  8628597.75  11504797.0  \n",
       "Age                        24.00       36.0       49.00        85.0  \n",
       "Driving_License             1.00        1.0        1.00         1.0  \n",
       "Region_Code                15.00       28.0       35.00        52.0  \n",
       "Previously_Insured          0.00        0.0        1.00         1.0  \n",
       "Annual_Premium          25277.00    31824.0    39451.00    540165.0  \n",
       "Policy_Sales_Channel       29.00      151.0      152.00       163.0  \n",
       "Vintage                    99.00      166.0      232.00       299.0  \n",
       "Response                    0.00        0.0        0.00         1.0  "
      ]
     },
     "execution_count": 10,
     "metadata": {},
     "output_type": "execute_result"
    }
   ],
   "source": [
    "train_df.describe().T"
   ]
  },
  {
   "cell_type": "code",
   "execution_count": 11,
   "id": "2d3cae6e",
   "metadata": {
    "execution": {
     "iopub.execute_input": "2024-07-13T01:34:32.063074Z",
     "iopub.status.busy": "2024-07-13T01:34:32.062429Z",
     "iopub.status.idle": "2024-07-13T01:34:40.705627Z",
     "shell.execute_reply": "2024-07-13T01:34:40.704744Z"
    },
    "papermill": {
     "duration": 8.655941,
     "end_time": "2024-07-13T01:34:40.707937",
     "exception": false,
     "start_time": "2024-07-13T01:34:32.051996",
     "status": "completed"
    },
    "tags": []
   },
   "outputs": [
    {
     "data": {
      "text/html": [
       "<div>\n",
       "<style scoped>\n",
       "    .dataframe tbody tr th:only-of-type {\n",
       "        vertical-align: middle;\n",
       "    }\n",
       "\n",
       "    .dataframe tbody tr th {\n",
       "        vertical-align: top;\n",
       "    }\n",
       "\n",
       "    .dataframe thead th {\n",
       "        text-align: right;\n",
       "    }\n",
       "</style>\n",
       "<table border=\"1\" class=\"dataframe\">\n",
       "  <thead>\n",
       "    <tr style=\"text-align: right;\">\n",
       "      <th></th>\n",
       "      <th>count</th>\n",
       "      <th>unique</th>\n",
       "      <th>top</th>\n",
       "      <th>freq</th>\n",
       "    </tr>\n",
       "  </thead>\n",
       "  <tbody>\n",
       "    <tr>\n",
       "      <th>Gender</th>\n",
       "      <td>11504798</td>\n",
       "      <td>2</td>\n",
       "      <td>Male</td>\n",
       "      <td>6228134</td>\n",
       "    </tr>\n",
       "    <tr>\n",
       "      <th>Vehicle_Age</th>\n",
       "      <td>11504798</td>\n",
       "      <td>3</td>\n",
       "      <td>1-2 Year</td>\n",
       "      <td>5982678</td>\n",
       "    </tr>\n",
       "    <tr>\n",
       "      <th>Vehicle_Damage</th>\n",
       "      <td>11504798</td>\n",
       "      <td>2</td>\n",
       "      <td>Yes</td>\n",
       "      <td>5783229</td>\n",
       "    </tr>\n",
       "  </tbody>\n",
       "</table>\n",
       "</div>"
      ],
      "text/plain": [
       "                   count unique       top     freq\n",
       "Gender          11504798      2      Male  6228134\n",
       "Vehicle_Age     11504798      3  1-2 Year  5982678\n",
       "Vehicle_Damage  11504798      2       Yes  5783229"
      ]
     },
     "execution_count": 11,
     "metadata": {},
     "output_type": "execute_result"
    }
   ],
   "source": [
    "train_df.describe(include='object').T"
   ]
  },
  {
   "cell_type": "markdown",
   "id": "ae42336e",
   "metadata": {
    "papermill": {
     "duration": 0.009661,
     "end_time": "2024-07-13T01:34:40.727873",
     "exception": false,
     "start_time": "2024-07-13T01:34:40.718212",
     "status": "completed"
    },
    "tags": []
   },
   "source": [
    "# Visualization"
   ]
  },
  {
   "cell_type": "code",
   "execution_count": 12,
   "id": "ebc3ba80",
   "metadata": {
    "execution": {
     "iopub.execute_input": "2024-07-13T01:34:40.749765Z",
     "iopub.status.busy": "2024-07-13T01:34:40.748956Z",
     "iopub.status.idle": "2024-07-13T01:34:40.752933Z",
     "shell.execute_reply": "2024-07-13T01:34:40.752064Z"
    },
    "papermill": {
     "duration": 0.017075,
     "end_time": "2024-07-13T01:34:40.754901",
     "exception": false,
     "start_time": "2024-07-13T01:34:40.737826",
     "status": "completed"
    },
    "tags": []
   },
   "outputs": [],
   "source": [
    "# sns.pairplot(train_df)\n",
    "# plt.show()"
   ]
  },
  {
   "cell_type": "code",
   "execution_count": 13,
   "id": "dcf2197d",
   "metadata": {
    "execution": {
     "iopub.execute_input": "2024-07-13T01:34:40.775699Z",
     "iopub.status.busy": "2024-07-13T01:34:40.775395Z",
     "iopub.status.idle": "2024-07-13T01:34:42.653927Z",
     "shell.execute_reply": "2024-07-13T01:34:42.652678Z"
    },
    "papermill": {
     "duration": 1.89312,
     "end_time": "2024-07-13T01:34:42.657863",
     "exception": false,
     "start_time": "2024-07-13T01:34:40.764743",
     "status": "completed"
    },
    "tags": []
   },
   "outputs": [
    {
     "data": {
      "image/png": "[encoded data removed]",
      "text/plain": [
       "<Figure size 640x480 with 1 Axes>"
      ]
     },
     "metadata": {},
     "output_type": "display_data"
    }
   ],
   "source": [
    "plt.pie(train_df[\"Gender\"].value_counts(), labels = [\"Male\", \"Female\"], autopct = '%1.1f%%')\n",
    "plt.title(\"Gender distribution\")\n",
    "plt.show()"
   ]
  },
  {
   "cell_type": "code",
   "execution_count": 14,
   "id": "a2f8afb2",
   "metadata": {
    "execution": {
     "iopub.execute_input": "2024-07-13T01:34:42.704799Z",
     "iopub.status.busy": "2024-07-13T01:34:42.703793Z",
     "iopub.status.idle": "2024-07-13T01:34:51.997551Z",
     "shell.execute_reply": "2024-07-13T01:34:51.996666Z"
    },
    "papermill": {
     "duration": 9.319679,
     "end_time": "2024-07-13T01:34:51.999841",
     "exception": false,
     "start_time": "2024-07-13T01:34:42.680162",
     "status": "completed"
    },
    "tags": []
   },
   "outputs": [
    {
     "data": {
      "image/png": "[encoded data removed]",
      "text/plain": [
       "<Figure size 640x480 with 1 Axes>"
      ]
     },
     "metadata": {},
     "output_type": "display_data"
    }
   ],
   "source": [
    "sns.countplot(data = train_df, x=\"Response\", hue=\"Gender\")\n",
    "plt.show()"
   ]
  },
  {
   "cell_type": "code",
   "execution_count": 15,
   "id": "23c61f6a",
   "metadata": {
    "execution": {
     "iopub.execute_input": "2024-07-13T01:34:52.021927Z",
     "iopub.status.busy": "2024-07-13T01:34:52.021659Z",
     "iopub.status.idle": "2024-07-13T01:36:03.230402Z",
     "shell.execute_reply": "2024-07-13T01:36:03.229573Z"
    },
    "papermill": {
     "duration": 71.232967,
     "end_time": "2024-07-13T01:36:03.243388",
     "exception": false,
     "start_time": "2024-07-13T01:34:52.010421",
     "status": "completed"
    },
    "tags": []
   },
   "outputs": [
    {
     "data": {
      "image/png": "[encoded data removed]",
      "text/plain": [
       "<Figure size 640x480 with 1 Axes>"
      ]
     },
     "metadata": {},
     "output_type": "display_data"
    }
   ],
   "source": [
    "sns.histplot(data = train_df, x = \"Response\", kde = True, hue = \"Gender\")\n",
    "plt.show()"
   ]
  },
  {
   "cell_type": "code",
   "execution_count": 16,
   "id": "25284545",
   "metadata": {
    "execution": {
     "iopub.execute_input": "2024-07-13T01:36:03.265517Z",
     "iopub.status.busy": "2024-07-13T01:36:03.265212Z",
     "iopub.status.idle": "2024-07-13T01:36:26.744813Z",
     "shell.execute_reply": "2024-07-13T01:36:26.743899Z"
    },
    "papermill": {
     "duration": 23.493076,
     "end_time": "2024-07-13T01:36:26.746973",
     "exception": false,
     "start_time": "2024-07-13T01:36:03.253897",
     "status": "completed"
    },
    "tags": []
   },
   "outputs": [
    {
     "data": {
      "text/html": [
       "<div>\n",
       "<style scoped>\n",
       "    .dataframe tbody tr th:only-of-type {\n",
       "        vertical-align: middle;\n",
       "    }\n",
       "\n",
       "    .dataframe tbody tr th {\n",
       "        vertical-align: top;\n",
       "    }\n",
       "\n",
       "    .dataframe thead th {\n",
       "        text-align: right;\n",
       "    }\n",
       "</style>\n",
       "<table border=\"1\" class=\"dataframe\">\n",
       "  <thead>\n",
       "    <tr style=\"text-align: right;\">\n",
       "      <th></th>\n",
       "      <th>id</th>\n",
       "      <th>Gender</th>\n",
       "      <th>Age</th>\n",
       "      <th>Driving_License</th>\n",
       "      <th>Region_Code</th>\n",
       "      <th>Previously_Insured</th>\n",
       "      <th>Vehicle_Age</th>\n",
       "      <th>Vehicle_Damage</th>\n",
       "      <th>Annual_Premium</th>\n",
       "      <th>Policy_Sales_Channel</th>\n",
       "      <th>Vintage</th>\n",
       "      <th>Response</th>\n",
       "    </tr>\n",
       "  </thead>\n",
       "  <tbody>\n",
       "    <tr>\n",
       "      <th>0</th>\n",
       "      <td>0</td>\n",
       "      <td>1</td>\n",
       "      <td>21</td>\n",
       "      <td>1</td>\n",
       "      <td>35.0</td>\n",
       "      <td>0</td>\n",
       "      <td>0</td>\n",
       "      <td>1</td>\n",
       "      <td>65101.0</td>\n",
       "      <td>124.0</td>\n",
       "      <td>187</td>\n",
       "      <td>0</td>\n",
       "    </tr>\n",
       "    <tr>\n",
       "      <th>1</th>\n",
       "      <td>1</td>\n",
       "      <td>1</td>\n",
       "      <td>43</td>\n",
       "      <td>1</td>\n",
       "      <td>28.0</td>\n",
       "      <td>0</td>\n",
       "      <td>2</td>\n",
       "      <td>1</td>\n",
       "      <td>58911.0</td>\n",
       "      <td>26.0</td>\n",
       "      <td>288</td>\n",
       "      <td>1</td>\n",
       "    </tr>\n",
       "    <tr>\n",
       "      <th>2</th>\n",
       "      <td>2</td>\n",
       "      <td>0</td>\n",
       "      <td>25</td>\n",
       "      <td>1</td>\n",
       "      <td>14.0</td>\n",
       "      <td>1</td>\n",
       "      <td>1</td>\n",
       "      <td>0</td>\n",
       "      <td>38043.0</td>\n",
       "      <td>152.0</td>\n",
       "      <td>254</td>\n",
       "      <td>0</td>\n",
       "    </tr>\n",
       "    <tr>\n",
       "      <th>3</th>\n",
       "      <td>3</td>\n",
       "      <td>0</td>\n",
       "      <td>35</td>\n",
       "      <td>1</td>\n",
       "      <td>1.0</td>\n",
       "      <td>0</td>\n",
       "      <td>0</td>\n",
       "      <td>1</td>\n",
       "      <td>2630.0</td>\n",
       "      <td>156.0</td>\n",
       "      <td>76</td>\n",
       "      <td>0</td>\n",
       "    </tr>\n",
       "    <tr>\n",
       "      <th>4</th>\n",
       "      <td>4</td>\n",
       "      <td>0</td>\n",
       "      <td>36</td>\n",
       "      <td>1</td>\n",
       "      <td>15.0</td>\n",
       "      <td>1</td>\n",
       "      <td>0</td>\n",
       "      <td>0</td>\n",
       "      <td>31951.0</td>\n",
       "      <td>152.0</td>\n",
       "      <td>294</td>\n",
       "      <td>0</td>\n",
       "    </tr>\n",
       "  </tbody>\n",
       "</table>\n",
       "</div>"
      ],
      "text/plain": [
       "   id  Gender  Age  Driving_License  Region_Code  Previously_Insured  \\\n",
       "0   0       1   21                1         35.0                   0   \n",
       "1   1       1   43                1         28.0                   0   \n",
       "2   2       0   25                1         14.0                   1   \n",
       "3   3       0   35                1          1.0                   0   \n",
       "4   4       0   36                1         15.0                   1   \n",
       "\n",
       "   Vehicle_Age  Vehicle_Damage  Annual_Premium  Policy_Sales_Channel  Vintage  \\\n",
       "0            0               1         65101.0                 124.0      187   \n",
       "1            2               1         58911.0                  26.0      288   \n",
       "2            1               0         38043.0                 152.0      254   \n",
       "3            0               1          2630.0                 156.0       76   \n",
       "4            0               0         31951.0                 152.0      294   \n",
       "\n",
       "   Response  \n",
       "0         0  \n",
       "1         1  \n",
       "2         0  \n",
       "3         0  \n",
       "4         0  "
      ]
     },
     "execution_count": 16,
     "metadata": {},
     "output_type": "execute_result"
    }
   ],
   "source": [
    "#modification\n",
    "train_df[\"Gender\"] = train_df[\"Gender\"].replace([\"Female\", \"Male\"], [0,1])\n",
    "train_df[\"Vehicle_Age\"] = train_df[\"Vehicle_Age\"].replace([\"1-2 Year\", \"< 1 Year\", \"> 2 Years\"], [0, 1, 2])\n",
    "train_df[\"Vehicle_Damage\"] = train_df[\"Vehicle_Damage\"].replace([\"No\", \"Yes\"], [0, 1])\n",
    "train_df.head(5)"
   ]
  },
  {
   "cell_type": "code",
   "execution_count": 17,
   "id": "e8205cdd",
   "metadata": {
    "execution": {
     "iopub.execute_input": "2024-07-13T01:36:26.770522Z",
     "iopub.status.busy": "2024-07-13T01:36:26.770206Z",
     "iopub.status.idle": "2024-07-13T01:36:32.077792Z",
     "shell.execute_reply": "2024-07-13T01:36:32.076499Z"
    },
    "papermill": {
     "duration": 5.324109,
     "end_time": "2024-07-13T01:36:32.082404",
     "exception": false,
     "start_time": "2024-07-13T01:36:26.758295",
     "status": "completed"
    },
    "tags": []
   },
   "outputs": [
    {
     "data": {
      "image/png": "[encoded data removed]",
      "text/plain": [
       "<Figure size 1200x800 with 2 Axes>"
      ]
     },
     "metadata": {},
     "output_type": "display_data"
    }
   ],
   "source": [
    "plt.figure(figsize = (12,8))\n",
    "sns.heatmap(train_df.corr(), annot = True, cmap = \"viridis\")\n",
    "plt.show()"
   ]
  },
  {
   "cell_type": "code",
   "execution_count": 18,
   "id": "0b7abf1c",
   "metadata": {
    "execution": {
     "iopub.execute_input": "2024-07-13T01:36:32.110746Z",
     "iopub.status.busy": "2024-07-13T01:36:32.110214Z",
     "iopub.status.idle": "2024-07-13T01:37:15.632770Z",
     "shell.execute_reply": "2024-07-13T01:37:15.631861Z"
    },
    "papermill": {
     "duration": 43.554178,
     "end_time": "2024-07-13T01:37:15.650288",
     "exception": false,
     "start_time": "2024-07-13T01:36:32.096110",
     "status": "completed"
    },
    "tags": []
   },
   "outputs": [
    {
     "data": {
      "image/png": "[encoded data removed]",
      "text/plain": [
       "<Figure size 640x480 with 1 Axes>"
      ]
     },
     "metadata": {},
     "output_type": "display_data"
    }
   ],
   "source": [
    "sns.kdeplot(data = train_df, x=\"Response\", hue=\"Age\")\n",
    "plt.show()"
   ]
  },
  {
   "cell_type": "code",
   "execution_count": 19,
   "id": "d5eb7604",
   "metadata": {
    "execution": {
     "iopub.execute_input": "2024-07-13T01:37:15.680371Z",
     "iopub.status.busy": "2024-07-13T01:37:15.679482Z",
     "iopub.status.idle": "2024-07-13T01:38:00.539569Z",
     "shell.execute_reply": "2024-07-13T01:38:00.538734Z"
    },
    "papermill": {
     "duration": 44.89182,
     "end_time": "2024-07-13T01:38:00.556200",
     "exception": false,
     "start_time": "2024-07-13T01:37:15.664380",
     "status": "completed"
    },
    "tags": []
   },
   "outputs": [
    {
     "data": {
      "image/png": "[encoded data removed]",
      "text/plain": [
       "<Figure size 640x480 with 1 Axes>"
      ]
     },
     "metadata": {},
     "output_type": "display_data"
    }
   ],
   "source": [
    "sns.kdeplot(data = train_df, x=\"Response\", hue=\"Vehicle_Damage\")\n",
    "plt.show()"
   ]
  },
  {
   "cell_type": "markdown",
   "id": "0963969e",
   "metadata": {
    "papermill": {
     "duration": 0.014209,
     "end_time": "2024-07-13T01:38:00.584452",
     "exception": false,
     "start_time": "2024-07-13T01:38:00.570243",
     "status": "completed"
    },
    "tags": []
   },
   "source": [
    "# Submission"
   ]
  },
  {
   "cell_type": "code",
   "execution_count": 20,
   "id": "7c827a6b",
   "metadata": {
    "execution": {
     "iopub.execute_input": "2024-07-13T01:38:00.614439Z",
     "iopub.status.busy": "2024-07-13T01:38:00.613744Z",
     "iopub.status.idle": "2024-07-13T01:38:00.971039Z",
     "shell.execute_reply": "2024-07-13T01:38:00.970257Z"
    },
    "papermill": {
     "duration": 0.37489,
     "end_time": "2024-07-13T01:38:00.973325",
     "exception": false,
     "start_time": "2024-07-13T01:38:00.598435",
     "status": "completed"
    },
    "tags": []
   },
   "outputs": [],
   "source": [
    "submission_df = test_df.copy()"
   ]
  },
  {
   "cell_type": "code",
   "execution_count": 21,
   "id": "f769fc62",
   "metadata": {
    "execution": {
     "iopub.execute_input": "2024-07-13T01:38:01.003348Z",
     "iopub.status.busy": "2024-07-13T01:38:01.003060Z",
     "iopub.status.idle": "2024-07-13T01:38:01.017730Z",
     "shell.execute_reply": "2024-07-13T01:38:01.016874Z"
    },
    "papermill": {
     "duration": 0.031917,
     "end_time": "2024-07-13T01:38:01.019785",
     "exception": false,
     "start_time": "2024-07-13T01:38:00.987868",
     "status": "completed"
    },
    "tags": []
   },
   "outputs": [
    {
     "data": {
      "text/html": [
       "<div>\n",
       "<style scoped>\n",
       "    .dataframe tbody tr th:only-of-type {\n",
       "        vertical-align: middle;\n",
       "    }\n",
       "\n",
       "    .dataframe tbody tr th {\n",
       "        vertical-align: top;\n",
       "    }\n",
       "\n",
       "    .dataframe thead th {\n",
       "        text-align: right;\n",
       "    }\n",
       "</style>\n",
       "<table border=\"1\" class=\"dataframe\">\n",
       "  <thead>\n",
       "    <tr style=\"text-align: right;\">\n",
       "      <th></th>\n",
       "      <th>id</th>\n",
       "      <th>Gender</th>\n",
       "      <th>Age</th>\n",
       "      <th>Driving_License</th>\n",
       "      <th>Region_Code</th>\n",
       "      <th>Previously_Insured</th>\n",
       "      <th>Vehicle_Age</th>\n",
       "      <th>Vehicle_Damage</th>\n",
       "      <th>Annual_Premium</th>\n",
       "      <th>Policy_Sales_Channel</th>\n",
       "      <th>Vintage</th>\n",
       "    </tr>\n",
       "  </thead>\n",
       "  <tbody>\n",
       "    <tr>\n",
       "      <th>0</th>\n",
       "      <td>11504798</td>\n",
       "      <td>Female</td>\n",
       "      <td>20</td>\n",
       "      <td>1</td>\n",
       "      <td>47.0</td>\n",
       "      <td>0</td>\n",
       "      <td>&lt; 1 Year</td>\n",
       "      <td>No</td>\n",
       "      <td>2630.0</td>\n",
       "      <td>160.0</td>\n",
       "      <td>228</td>\n",
       "    </tr>\n",
       "    <tr>\n",
       "      <th>1</th>\n",
       "      <td>11504799</td>\n",
       "      <td>Male</td>\n",
       "      <td>47</td>\n",
       "      <td>1</td>\n",
       "      <td>28.0</td>\n",
       "      <td>0</td>\n",
       "      <td>1-2 Year</td>\n",
       "      <td>Yes</td>\n",
       "      <td>37483.0</td>\n",
       "      <td>124.0</td>\n",
       "      <td>123</td>\n",
       "    </tr>\n",
       "    <tr>\n",
       "      <th>2</th>\n",
       "      <td>11504800</td>\n",
       "      <td>Male</td>\n",
       "      <td>47</td>\n",
       "      <td>1</td>\n",
       "      <td>43.0</td>\n",
       "      <td>0</td>\n",
       "      <td>1-2 Year</td>\n",
       "      <td>Yes</td>\n",
       "      <td>2630.0</td>\n",
       "      <td>26.0</td>\n",
       "      <td>271</td>\n",
       "    </tr>\n",
       "    <tr>\n",
       "      <th>3</th>\n",
       "      <td>11504801</td>\n",
       "      <td>Female</td>\n",
       "      <td>22</td>\n",
       "      <td>1</td>\n",
       "      <td>47.0</td>\n",
       "      <td>1</td>\n",
       "      <td>&lt; 1 Year</td>\n",
       "      <td>No</td>\n",
       "      <td>24502.0</td>\n",
       "      <td>152.0</td>\n",
       "      <td>115</td>\n",
       "    </tr>\n",
       "    <tr>\n",
       "      <th>4</th>\n",
       "      <td>11504802</td>\n",
       "      <td>Male</td>\n",
       "      <td>51</td>\n",
       "      <td>1</td>\n",
       "      <td>19.0</td>\n",
       "      <td>0</td>\n",
       "      <td>1-2 Year</td>\n",
       "      <td>No</td>\n",
       "      <td>34115.0</td>\n",
       "      <td>124.0</td>\n",
       "      <td>148</td>\n",
       "    </tr>\n",
       "  </tbody>\n",
       "</table>\n",
       "</div>"
      ],
      "text/plain": [
       "         id  Gender  Age  Driving_License  Region_Code  Previously_Insured  \\\n",
       "0  11504798  Female   20                1         47.0                   0   \n",
       "1  11504799    Male   47                1         28.0                   0   \n",
       "2  11504800    Male   47                1         43.0                   0   \n",
       "3  11504801  Female   22                1         47.0                   1   \n",
       "4  11504802    Male   51                1         19.0                   0   \n",
       "\n",
       "  Vehicle_Age Vehicle_Damage  Annual_Premium  Policy_Sales_Channel  Vintage  \n",
       "0    < 1 Year             No          2630.0                 160.0      228  \n",
       "1    1-2 Year            Yes         37483.0                 124.0      123  \n",
       "2    1-2 Year            Yes          2630.0                  26.0      271  \n",
       "3    < 1 Year             No         24502.0                 152.0      115  \n",
       "4    1-2 Year             No         34115.0                 124.0      148  "
      ]
     },
     "execution_count": 21,
     "metadata": {},
     "output_type": "execute_result"
    }
   ],
   "source": [
    "submission_df.head(5)"
   ]
  },
  {
   "cell_type": "code",
   "execution_count": 22,
   "id": "030c40c8",
   "metadata": {
    "execution": {
     "iopub.execute_input": "2024-07-13T01:38:01.050086Z",
     "iopub.status.busy": "2024-07-13T01:38:01.049405Z",
     "iopub.status.idle": "2024-07-13T01:38:01.067328Z",
     "shell.execute_reply": "2024-07-13T01:38:01.066581Z"
    },
    "papermill": {
     "duration": 0.03563,
     "end_time": "2024-07-13T01:38:01.069720",
     "exception": false,
     "start_time": "2024-07-13T01:38:01.034090",
     "status": "completed"
    },
    "tags": []
   },
   "outputs": [],
   "source": [
    "#just assigning all 0 for response\n",
    "submission_df['Response'] = 0"
   ]
  },
  {
   "cell_type": "code",
   "execution_count": 23,
   "id": "6354d0a0",
   "metadata": {
    "execution": {
     "iopub.execute_input": "2024-07-13T01:38:01.100408Z",
     "iopub.status.busy": "2024-07-13T01:38:01.100068Z",
     "iopub.status.idle": "2024-07-13T01:38:01.115280Z",
     "shell.execute_reply": "2024-07-13T01:38:01.114358Z"
    },
    "papermill": {
     "duration": 0.033395,
     "end_time": "2024-07-13T01:38:01.117846",
     "exception": false,
     "start_time": "2024-07-13T01:38:01.084451",
     "status": "completed"
    },
    "tags": []
   },
   "outputs": [
    {
     "data": {
      "text/html": [
       "<div>\n",
       "<style scoped>\n",
       "    .dataframe tbody tr th:only-of-type {\n",
       "        vertical-align: middle;\n",
       "    }\n",
       "\n",
       "    .dataframe tbody tr th {\n",
       "        vertical-align: top;\n",
       "    }\n",
       "\n",
       "    .dataframe thead th {\n",
       "        text-align: right;\n",
       "    }\n",
       "</style>\n",
       "<table border=\"1\" class=\"dataframe\">\n",
       "  <thead>\n",
       "    <tr style=\"text-align: right;\">\n",
       "      <th></th>\n",
       "      <th>id</th>\n",
       "      <th>Gender</th>\n",
       "      <th>Age</th>\n",
       "      <th>Driving_License</th>\n",
       "      <th>Region_Code</th>\n",
       "      <th>Previously_Insured</th>\n",
       "      <th>Vehicle_Age</th>\n",
       "      <th>Vehicle_Damage</th>\n",
       "      <th>Annual_Premium</th>\n",
       "      <th>Policy_Sales_Channel</th>\n",
       "      <th>Vintage</th>\n",
       "      <th>Response</th>\n",
       "    </tr>\n",
       "  </thead>\n",
       "  <tbody>\n",
       "    <tr>\n",
       "      <th>7669861</th>\n",
       "      <td>19174659</td>\n",
       "      <td>Male</td>\n",
       "      <td>57</td>\n",
       "      <td>1</td>\n",
       "      <td>28.0</td>\n",
       "      <td>0</td>\n",
       "      <td>1-2 Year</td>\n",
       "      <td>Yes</td>\n",
       "      <td>51661.0</td>\n",
       "      <td>124.0</td>\n",
       "      <td>109</td>\n",
       "      <td>0</td>\n",
       "    </tr>\n",
       "    <tr>\n",
       "      <th>7669862</th>\n",
       "      <td>19174660</td>\n",
       "      <td>Male</td>\n",
       "      <td>28</td>\n",
       "      <td>1</td>\n",
       "      <td>50.0</td>\n",
       "      <td>1</td>\n",
       "      <td>&lt; 1 Year</td>\n",
       "      <td>No</td>\n",
       "      <td>25651.0</td>\n",
       "      <td>152.0</td>\n",
       "      <td>184</td>\n",
       "      <td>0</td>\n",
       "    </tr>\n",
       "    <tr>\n",
       "      <th>7669863</th>\n",
       "      <td>19174661</td>\n",
       "      <td>Male</td>\n",
       "      <td>47</td>\n",
       "      <td>1</td>\n",
       "      <td>33.0</td>\n",
       "      <td>1</td>\n",
       "      <td>1-2 Year</td>\n",
       "      <td>No</td>\n",
       "      <td>2630.0</td>\n",
       "      <td>138.0</td>\n",
       "      <td>63</td>\n",
       "      <td>0</td>\n",
       "    </tr>\n",
       "    <tr>\n",
       "      <th>7669864</th>\n",
       "      <td>19174662</td>\n",
       "      <td>Male</td>\n",
       "      <td>30</td>\n",
       "      <td>1</td>\n",
       "      <td>28.0</td>\n",
       "      <td>0</td>\n",
       "      <td>&lt; 1 Year</td>\n",
       "      <td>Yes</td>\n",
       "      <td>38866.0</td>\n",
       "      <td>124.0</td>\n",
       "      <td>119</td>\n",
       "      <td>0</td>\n",
       "    </tr>\n",
       "    <tr>\n",
       "      <th>7669865</th>\n",
       "      <td>19174663</td>\n",
       "      <td>Male</td>\n",
       "      <td>23</td>\n",
       "      <td>1</td>\n",
       "      <td>46.0</td>\n",
       "      <td>1</td>\n",
       "      <td>&lt; 1 Year</td>\n",
       "      <td>No</td>\n",
       "      <td>27498.0</td>\n",
       "      <td>152.0</td>\n",
       "      <td>79</td>\n",
       "      <td>0</td>\n",
       "    </tr>\n",
       "  </tbody>\n",
       "</table>\n",
       "</div>"
      ],
      "text/plain": [
       "               id Gender  Age  Driving_License  Region_Code  \\\n",
       "7669861  19174659   Male   57                1         28.0   \n",
       "7669862  19174660   Male   28                1         50.0   \n",
       "7669863  19174661   Male   47                1         33.0   \n",
       "7669864  19174662   Male   30                1         28.0   \n",
       "7669865  19174663   Male   23                1         46.0   \n",
       "\n",
       "         Previously_Insured Vehicle_Age Vehicle_Damage  Annual_Premium  \\\n",
       "7669861                   0    1-2 Year            Yes         51661.0   \n",
       "7669862                   1    < 1 Year             No         25651.0   \n",
       "7669863                   1    1-2 Year             No          2630.0   \n",
       "7669864                   0    < 1 Year            Yes         38866.0   \n",
       "7669865                   1    < 1 Year             No         27498.0   \n",
       "\n",
       "         Policy_Sales_Channel  Vintage  Response  \n",
       "7669861                 124.0      109         0  \n",
       "7669862                 152.0      184         0  \n",
       "7669863                 138.0       63         0  \n",
       "7669864                 124.0      119         0  \n",
       "7669865                 152.0       79         0  "
      ]
     },
     "execution_count": 23,
     "metadata": {},
     "output_type": "execute_result"
    }
   ],
   "source": [
    "submission_df.tail(5)"
   ]
  },
  {
   "cell_type": "code",
   "execution_count": 24,
   "id": "98b7f884",
   "metadata": {
    "execution": {
     "iopub.execute_input": "2024-07-13T01:38:01.148337Z",
     "iopub.status.busy": "2024-07-13T01:38:01.148074Z",
     "iopub.status.idle": "2024-07-13T01:38:02.400925Z",
     "shell.execute_reply": "2024-07-13T01:38:02.400148Z"
    },
    "papermill": {
     "duration": 1.270844,
     "end_time": "2024-07-13T01:38:02.403256",
     "exception": false,
     "start_time": "2024-07-13T01:38:01.132412",
     "status": "completed"
    },
    "tags": []
   },
   "outputs": [],
   "source": [
    "submission_df.loc[submission_df['Vehicle_Damage'] == \"Yes\", 'Response']=1"
   ]
  },
  {
   "cell_type": "code",
   "execution_count": 25,
   "id": "5711f0a9",
   "metadata": {
    "execution": {
     "iopub.execute_input": "2024-07-13T01:38:02.434577Z",
     "iopub.status.busy": "2024-07-13T01:38:02.434227Z",
     "iopub.status.idle": "2024-07-13T01:38:02.449335Z",
     "shell.execute_reply": "2024-07-13T01:38:02.448556Z"
    },
    "papermill": {
     "duration": 0.0329,
     "end_time": "2024-07-13T01:38:02.451258",
     "exception": false,
     "start_time": "2024-07-13T01:38:02.418358",
     "status": "completed"
    },
    "tags": []
   },
   "outputs": [
    {
     "data": {
      "text/html": [
       "<div>\n",
       "<style scoped>\n",
       "    .dataframe tbody tr th:only-of-type {\n",
       "        vertical-align: middle;\n",
       "    }\n",
       "\n",
       "    .dataframe tbody tr th {\n",
       "        vertical-align: top;\n",
       "    }\n",
       "\n",
       "    .dataframe thead th {\n",
       "        text-align: right;\n",
       "    }\n",
       "</style>\n",
       "<table border=\"1\" class=\"dataframe\">\n",
       "  <thead>\n",
       "    <tr style=\"text-align: right;\">\n",
       "      <th></th>\n",
       "      <th>id</th>\n",
       "      <th>Gender</th>\n",
       "      <th>Age</th>\n",
       "      <th>Driving_License</th>\n",
       "      <th>Region_Code</th>\n",
       "      <th>Previously_Insured</th>\n",
       "      <th>Vehicle_Age</th>\n",
       "      <th>Vehicle_Damage</th>\n",
       "      <th>Annual_Premium</th>\n",
       "      <th>Policy_Sales_Channel</th>\n",
       "      <th>Vintage</th>\n",
       "      <th>Response</th>\n",
       "    </tr>\n",
       "  </thead>\n",
       "  <tbody>\n",
       "    <tr>\n",
       "      <th>0</th>\n",
       "      <td>11504798</td>\n",
       "      <td>Female</td>\n",
       "      <td>20</td>\n",
       "      <td>1</td>\n",
       "      <td>47.0</td>\n",
       "      <td>0</td>\n",
       "      <td>&lt; 1 Year</td>\n",
       "      <td>No</td>\n",
       "      <td>2630.0</td>\n",
       "      <td>160.0</td>\n",
       "      <td>228</td>\n",
       "      <td>0</td>\n",
       "    </tr>\n",
       "    <tr>\n",
       "      <th>1</th>\n",
       "      <td>11504799</td>\n",
       "      <td>Male</td>\n",
       "      <td>47</td>\n",
       "      <td>1</td>\n",
       "      <td>28.0</td>\n",
       "      <td>0</td>\n",
       "      <td>1-2 Year</td>\n",
       "      <td>Yes</td>\n",
       "      <td>37483.0</td>\n",
       "      <td>124.0</td>\n",
       "      <td>123</td>\n",
       "      <td>1</td>\n",
       "    </tr>\n",
       "    <tr>\n",
       "      <th>2</th>\n",
       "      <td>11504800</td>\n",
       "      <td>Male</td>\n",
       "      <td>47</td>\n",
       "      <td>1</td>\n",
       "      <td>43.0</td>\n",
       "      <td>0</td>\n",
       "      <td>1-2 Year</td>\n",
       "      <td>Yes</td>\n",
       "      <td>2630.0</td>\n",
       "      <td>26.0</td>\n",
       "      <td>271</td>\n",
       "      <td>1</td>\n",
       "    </tr>\n",
       "    <tr>\n",
       "      <th>3</th>\n",
       "      <td>11504801</td>\n",
       "      <td>Female</td>\n",
       "      <td>22</td>\n",
       "      <td>1</td>\n",
       "      <td>47.0</td>\n",
       "      <td>1</td>\n",
       "      <td>&lt; 1 Year</td>\n",
       "      <td>No</td>\n",
       "      <td>24502.0</td>\n",
       "      <td>152.0</td>\n",
       "      <td>115</td>\n",
       "      <td>0</td>\n",
       "    </tr>\n",
       "    <tr>\n",
       "      <th>4</th>\n",
       "      <td>11504802</td>\n",
       "      <td>Male</td>\n",
       "      <td>51</td>\n",
       "      <td>1</td>\n",
       "      <td>19.0</td>\n",
       "      <td>0</td>\n",
       "      <td>1-2 Year</td>\n",
       "      <td>No</td>\n",
       "      <td>34115.0</td>\n",
       "      <td>124.0</td>\n",
       "      <td>148</td>\n",
       "      <td>0</td>\n",
       "    </tr>\n",
       "  </tbody>\n",
       "</table>\n",
       "</div>"
      ],
      "text/plain": [
       "         id  Gender  Age  Driving_License  Region_Code  Previously_Insured  \\\n",
       "0  11504798  Female   20                1         47.0                   0   \n",
       "1  11504799    Male   47                1         28.0                   0   \n",
       "2  11504800    Male   47                1         43.0                   0   \n",
       "3  11504801  Female   22                1         47.0                   1   \n",
       "4  11504802    Male   51                1         19.0                   0   \n",
       "\n",
       "  Vehicle_Age Vehicle_Damage  Annual_Premium  Policy_Sales_Channel  Vintage  \\\n",
       "0    < 1 Year             No          2630.0                 160.0      228   \n",
       "1    1-2 Year            Yes         37483.0                 124.0      123   \n",
       "2    1-2 Year            Yes          2630.0                  26.0      271   \n",
       "3    < 1 Year             No         24502.0                 152.0      115   \n",
       "4    1-2 Year             No         34115.0                 124.0      148   \n",
       "\n",
       "   Response  \n",
       "0         0  \n",
       "1         1  \n",
       "2         1  \n",
       "3         0  \n",
       "4         0  "
      ]
     },
     "execution_count": 25,
     "metadata": {},
     "output_type": "execute_result"
    }
   ],
   "source": [
    "submission_df.head(5)"
   ]
  },
  {
   "cell_type": "code",
   "execution_count": 26,
   "id": "e4c96840",
   "metadata": {
    "execution": {
     "iopub.execute_input": "2024-07-13T01:38:02.482509Z",
     "iopub.status.busy": "2024-07-13T01:38:02.482191Z",
     "iopub.status.idle": "2024-07-13T01:38:02.536115Z",
     "shell.execute_reply": "2024-07-13T01:38:02.535325Z"
    },
    "papermill": {
     "duration": 0.072408,
     "end_time": "2024-07-13T01:38:02.538509",
     "exception": false,
     "start_time": "2024-07-13T01:38:02.466101",
     "status": "completed"
    },
    "tags": []
   },
   "outputs": [],
   "source": [
    "df = submission_df[['id', 'Response']]"
   ]
  },
  {
   "cell_type": "code",
   "execution_count": 27,
   "id": "5560ea6a",
   "metadata": {
    "execution": {
     "iopub.execute_input": "2024-07-13T01:38:02.571018Z",
     "iopub.status.busy": "2024-07-13T01:38:02.570688Z",
     "iopub.status.idle": "2024-07-13T01:38:02.579160Z",
     "shell.execute_reply": "2024-07-13T01:38:02.578327Z"
    },
    "papermill": {
     "duration": 0.027177,
     "end_time": "2024-07-13T01:38:02.581127",
     "exception": false,
     "start_time": "2024-07-13T01:38:02.553950",
     "status": "completed"
    },
    "tags": []
   },
   "outputs": [
    {
     "data": {
      "text/html": [
       "<div>\n",
       "<style scoped>\n",
       "    .dataframe tbody tr th:only-of-type {\n",
       "        vertical-align: middle;\n",
       "    }\n",
       "\n",
       "    .dataframe tbody tr th {\n",
       "        vertical-align: top;\n",
       "    }\n",
       "\n",
       "    .dataframe thead th {\n",
       "        text-align: right;\n",
       "    }\n",
       "</style>\n",
       "<table border=\"1\" class=\"dataframe\">\n",
       "  <thead>\n",
       "    <tr style=\"text-align: right;\">\n",
       "      <th></th>\n",
       "      <th>id</th>\n",
       "      <th>Response</th>\n",
       "    </tr>\n",
       "  </thead>\n",
       "  <tbody>\n",
       "    <tr>\n",
       "      <th>0</th>\n",
       "      <td>11504798</td>\n",
       "      <td>0</td>\n",
       "    </tr>\n",
       "    <tr>\n",
       "      <th>1</th>\n",
       "      <td>11504799</td>\n",
       "      <td>1</td>\n",
       "    </tr>\n",
       "    <tr>\n",
       "      <th>2</th>\n",
       "      <td>11504800</td>\n",
       "      <td>1</td>\n",
       "    </tr>\n",
       "    <tr>\n",
       "      <th>3</th>\n",
       "      <td>11504801</td>\n",
       "      <td>0</td>\n",
       "    </tr>\n",
       "    <tr>\n",
       "      <th>4</th>\n",
       "      <td>11504802</td>\n",
       "      <td>0</td>\n",
       "    </tr>\n",
       "  </tbody>\n",
       "</table>\n",
       "</div>"
      ],
      "text/plain": [
       "         id  Response\n",
       "0  11504798         0\n",
       "1  11504799         1\n",
       "2  11504800         1\n",
       "3  11504801         0\n",
       "4  11504802         0"
      ]
     },
     "execution_count": 27,
     "metadata": {},
     "output_type": "execute_result"
    }
   ],
   "source": [
    "df.head(5)"
   ]
  },
  {
   "cell_type": "code",
   "execution_count": 28,
   "id": "cb52ac7c",
   "metadata": {
    "execution": {
     "iopub.execute_input": "2024-07-13T01:38:02.613461Z",
     "iopub.status.busy": "2024-07-13T01:38:02.612861Z",
     "iopub.status.idle": "2024-07-13T01:38:11.869906Z",
     "shell.execute_reply": "2024-07-13T01:38:11.868971Z"
    },
    "papermill": {
     "duration": 9.275839,
     "end_time": "2024-07-13T01:38:11.872231",
     "exception": false,
     "start_time": "2024-07-13T01:38:02.596392",
     "status": "completed"
    },
    "tags": []
   },
   "outputs": [],
   "source": [
    "df.to_csv('v2.csv', index = False)"
   ]
  },
  {
   "cell_type": "code",
   "execution_count": null,
   "id": "0824b905",
   "metadata": {
    "papermill": {
     "duration": 0.015305,
     "end_time": "2024-07-13T01:38:11.903928",
     "exception": false,
     "start_time": "2024-07-13T01:38:11.888623",
     "status": "completed"
    },
    "tags": []
   },
   "outputs": [],
   "source": []
  }
 ],
 "metadata": {
  "kaggle": {
   "accelerator": "gpu",
   "dataSources": [
    {
     "databundleVersionId": 8930475,
     "sourceId": 73291,
     "sourceType": "competition"
    }
   ],
   "dockerImageVersionId": 30732,
   "isGpuEnabled": true,
   "isInternetEnabled": true,
   "language": "python",
   "sourceType": "notebook"
  },
  "kernelspec": {
   "display_name": "Python 3",
   "language": "python",
   "name": "python3"
  },
  "language_info": {
   "codemirror_mode": {
    "name": "ipython",
    "version": 3
   },
   "file_extension": ".py",
   "mimetype": "text/x-python",
   "name": "python",
   "nbconvert_exporter": "python",
   "pygments_lexer": "ipython3",
   "version": "3.10.13"
  },
  "papermill": {
   "default_parameters": {},
   "duration": 276.303555,
   "end_time": "2024-07-13T01:38:12.841027",
   "environment_variables": {},
   "exception": null,
   "input_path": "__notebook__.ipynb",
   "output_path": "__notebook__.ipynb",
   "parameters": {},
   "start_time": "2024-07-13T01:33:36.537472",
   "version": "2.5.0"
  }
 },
 "nbformat": 4,
 "nbformat_minor": 5
}
